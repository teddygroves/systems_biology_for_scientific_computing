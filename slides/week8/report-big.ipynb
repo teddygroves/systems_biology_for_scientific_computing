{
  "cells": [
    {
      "cell_type": "raw",
      "metadata": {},
      "source": [
        "---\n",
        "title: Recreating a full whole body ODE model using Stan\n",
        "subtitle: \"A report created using bibat version 0.1.1\"\n",
        "author: \"Teddy Groves\"\n",
        "bibliography: docs/bibliography.bib\n",
        "reference-location: margin\n",
        "toc: true\n",
        "format:\n",
        "  html:\n",
        "    standalone: true\n",
        "    embed-resources: true\n",
        "  pdf: default\n",
        "  ipynb: default\n",
        "---"
      ],
      "id": "d59b6c1b"
    },
    {
      "cell_type": "markdown",
      "metadata": {},
      "source": [
        "Last time we fit a small whole body model using Stan and cmdstanpy. This time\n",
        "we will try and fit a bigger one - specifically the model from\n",
        "@prattMathematicalModellingHepatic2015, which Laura had kindly given me data\n",
        "for.\n",
        "\n",
        "# Setup\n",
        "\n",
        "The first code block imports the Python packages that we will use for this\n",
        "analysis. The bigger model requires a little bit more data wrangling, which I\n",
        "handled in advance using bibat. In this document I just want to focus on the\n",
        "Stan bits so we will just call the pre-made data preparation function. Note\n",
        "that the code here should be run from the root of the `pratt` directory in\n",
        "order for the relative import at the bottom of this cell to work.\n"
      ],
      "id": "81022e7b"
    },
    {
      "cell_type": "code",
      "metadata": {},
      "source": [
        "import os\n",
        "import itertools\n",
        "\n",
        "import cmdstanpy\n",
        "import arviz as az\n",
        "import numpy as np\n",
        "import pandas as pd\n",
        "\n",
        "from matplotlib import pyplot as plt\n",
        "\n",
        "from src.prepared_data import load_prepared_data"
      ],
      "id": "1040f775",
      "execution_count": null,
      "outputs": []
    },
    {
      "cell_type": "markdown",
      "metadata": {},
      "source": [
        "This code sets a global variable called `SEED`. We will pass this to any code\n",
        "that does random number generation in order to ensure that it generates the\n",
        "same numbers every time.\n"
      ],
      "id": "57cf8721"
    },
    {
      "cell_type": "code",
      "metadata": {},
      "source": [
        "SEED = 123"
      ],
      "id": "341cc248",
      "execution_count": null,
      "outputs": []
    },
    {
      "cell_type": "markdown",
      "metadata": {},
      "source": [
        "This cell uses a pre-prepared function to load all the data we will need in a\n",
        "nice format\n"
      ],
      "id": "c5004b32"
    },
    {
      "cell_type": "code",
      "metadata": {},
      "source": [
        "prepared_data = load_prepared_data(os.path.join(\"data\", \"prepared\", \"pratt\"))\n",
        "species = prepared_data.species\n",
        "parameters = prepared_data.parameters\n",
        "compartments = prepared_data.compartments\n",
        "S_cpt = prepared_data.compartment_stoichiometry.set_index(\"Unnamed: 0\").drop(\"Unnamed: 0.1\", axis=1)\n",
        "S = prepared_data.stoichiometry.set_index(\"species\").drop(\"Unnamed: 0\", axis=1).drop(\"Unnamed: 48\", axis=1)"
      ],
      "id": "316b19d1",
      "execution_count": null,
      "outputs": []
    },
    {
      "cell_type": "markdown",
      "metadata": {},
      "source": [
        "# Stan code\n",
        "\n",
        "The next cell loads a new Stan model. It's almost exactly the same as the model\n",
        "from last time! The only differences are that:\n",
        "\n",
        "* the `functions` block contains only one line `#include ode_pratt.stan`. This\n",
        "  is because the bigger model requires some quite involved functions. In order\n",
        "  to not have to think about too many things at once, I put these functions in\n",
        "  their own file.\n",
        "* the first argument to the `ode_bdf` function is `get_dxdt_pratt`. This is one\n",
        "  of the new functions from `ode_pratt.stan`\n"
      ],
      "id": "59da53a3"
    },
    {
      "cell_type": "code",
      "metadata": {},
      "source": [
        "model = cmdstanpy.CmdStanModel(stan_file=os.path.join(\"src\", \"stan\", \"pratt.stan\"))\n",
        "print(model.code())"
      ],
      "id": "e86f40e0",
      "execution_count": null,
      "outputs": []
    },
    {
      "cell_type": "markdown",
      "metadata": {},
      "source": [
        "So most of the interesting new material is in the file `ode_pratt.stan`. The\n",
        "next code cell prints the contents of this file so that we can check it out.\n",
        "\n",
        "The function `mm_one_substrate` is the same as last time. The function\n",
        "`get_dxdt_pratt` is exactly the same as the function `get_dxdt_simple` from\n",
        "last time, but with a different function for calculating the flux. The shorter\n",
        "new functions are pretty easy to read.\n",
        "\n",
        "So the only really new thing is the long function `get_flux_pratt`. This\n",
        "function stores some numbers as variables, then calculates the flux for each\n",
        "reaction according to the rate laws from the source paper\n",
        "@prattMathematicalModellingHepatic2015.\n",
        "\n",
        "Note that the parameter and species indexing is easier to follow and debug for\n",
        "the reactions whose fluxes are abstracted using functions compared with the\n",
        "reactions whose fluxes are calculated in place!\n"
      ],
      "id": "2359f87b"
    },
    {
      "cell_type": "code",
      "metadata": {},
      "source": [
        "ode_file = os.path.join(\"src\", \"stan\", \"ode_pratt.stan\")\n",
        "with open(ode_file, \"r\") as f:\n",
        "    ode_code = f.read()\n",
        "print(ode_code)"
      ],
      "id": "6a4ba3a2",
      "execution_count": null,
      "outputs": []
    },
    {
      "cell_type": "markdown",
      "metadata": {},
      "source": [
        "# Data preparation\n",
        "\n",
        "This can be done very similarly to last time.\n",
        "\n",
        "The first step is to do a write bit of Python to define all the things we need.\n"
      ],
      "id": "ee96c55f"
    },
    {
      "cell_type": "code",
      "metadata": {},
      "source": [
        "species[\"compartment_volume\"] = (\n",
        "      compartments\n",
        "      .set_index(\"name\")\n",
        "      [\"value_pratt\"]\n",
        "      .reindex(species[\"compartment\"])\n",
        "      .values\n",
        ")\n",
        "species[\"initial_concentration\"] = (\n",
        "    species[\"initial_abundance\"] / species[\"compartment_volume\"]\n",
        ")\n",
        "species_code = dict(zip(species[\"name\"], range(1, len(species[\"name\"]) + 1)))\n",
        "\n",
        "parameters[\"prior_mu\"] = np.log(parameters[\"value_pratt\"])\n",
        "parameters[\"prior_sigma\"] = 0.15\n",
        "parameters[\"is_fixed\"] = parameters[\"value_pratt\"] == 0\n",
        "fixed_parameters = parameters.loc[lambda df: df[\"is_fixed\"]]\n",
        "free_parameters = parameters.loc[lambda df: ~df[\"is_fixed\"]]\n",
        "\n",
        "timepoint = np.linspace(0.01, 50, 5)\n",
        "y = pd.DataFrame(\n",
        "    itertools.product(species[\"name\"], range(len(timepoint))), \n",
        "    columns=[\"species\", \"timepoint_ix\"]\n",
        ").assign(sd=0.1)"
      ],
      "id": "3abf4ae3",
      "execution_count": null,
      "outputs": []
    },
    {
      "cell_type": "markdown",
      "metadata": {},
      "source": [
        "Now, just like last time, the next cell creates a dictionary whose keys match\n",
        "the variables in the data block of the Stan model and whose values cmdstanpy\n",
        "can ingest. \n"
      ],
      "id": "e4830f4c"
    },
    {
      "cell_type": "code",
      "metadata": {},
      "source": [
        "data_shared = {\n",
        "    \"N_species\": len(species),\n",
        "    \"N_reaction\": S.shape[1],\n",
        "    \"N_compartment\": len(compartments),\n",
        "    \"N_parameter\": len(parameters),\n",
        "    \"N_fixed_parameter\": len(fixed_parameters),\n",
        "    \"N_timepoint\": len(timepoint),\n",
        "    \"N_measurement\": len(y),\n",
        "    \"S_rxn\": S.values,\n",
        "    \"S_cpt\": S_cpt.values,\n",
        "    \"compartment_volume\": compartments[\"value_pratt\"].values,\n",
        "    \"initial_concentration\": species[\"initial_concentration\"].values,\n",
        "    \"timepoint\": timepoint,\n",
        "    \"fixed_parameter_value\": fixed_parameters[\"value_pratt\"].values,\n",
        "    \"fixed_parameter_ix\": fixed_parameters.index.values + 1,\n",
        "    \"free_parameter_ix\": free_parameters.index.values + 1,\n",
        "    \"y_timepoint_ix\": y[\"timepoint_ix\"].values + 1,\n",
        "    \"y_species_ix\": y[\"species\"].apply(species_code.get).values,\n",
        "    \"y_sd\": y[\"sd\"].values,\n",
        "    \"prior_p\": [\n",
        "      free_parameters[\"prior_mu\"].values,\n",
        "      free_parameters[\"prior_sigma\"].values\n",
        "    ],\n",
        "    \"rel_tol\": 1e-12,\n",
        "    \"abs_tol\": 1e-12,\n",
        "    \"max_num_steps\": int(1e6)\n",
        "}\n",
        "data_gen = {**data_shared, **{\"y\": np.ones(len(y)), \"likelihood\": 0, }}"
      ],
      "id": "0ec801bd",
      "execution_count": null,
      "outputs": []
    },
    {
      "cell_type": "code",
      "metadata": {},
      "source": [
        "#| error: true\n",
        "coords={\n",
        "    \"timepoint\": timepoint,\n",
        "    \"species\": species[\"name\"].values,\n",
        "    \"parameter_name\": parameters[\"name\"].values,\n",
        "    \"measurement_ix\": y.index\n",
        "}\n",
        "dims={\n",
        "    \"p\": [\"parameter_name\"],\n",
        "    \"conc\": [\"timepoint\", \"species\"],\n",
        "    \"yrep\": [\"measurement_ix\"]\n",
        "}\n",
        "init = {\"p\": parameters[\"value_pratt\"].values}\n",
        "mcmc = model.sample(\n",
        "    data=data_gen,\n",
        "    inits=init, \n",
        "    fixed_param=True,\n",
        "    iter_sampling=1,\n",
        "    chains=1,\n",
        "    show_console=True\n",
        ")\n",
        "idata_gen = az.from_cmdstanpy( \n",
        "     mcmc,\n",
        "     posterior_predictive={\"y\": \"yrep\"},\n",
        "     coords=coords,\n",
        "     dims=dims\n",
        ")"
      ],
      "id": "51c24bf0",
      "execution_count": null,
      "outputs": []
    },
    {
      "cell_type": "markdown",
      "metadata": {},
      "source": [
        "Uh oh, some warnings that mention CVODE! This is worrying because the ODE\n",
        "tolerance hyperparameters are already pretty strict. Time for some debugging...\n",
        "\n",
        "# Debugging\n",
        "\n",
        "The number one rule for debugging Stan is to work in a high level language like\n",
        "Python as much as possible.\n",
        "\n",
        "One way to do this is by writing trivial Stan programs that execute single\n",
        "functions or small bits of code. I wrote one of these to test the flux function\n",
        "`get_flux_pratt` and another one to test the ode step. Here is the flux\n",
        "program:\n"
      ],
      "id": "7d587f3e"
    },
    {
      "cell_type": "code",
      "metadata": {},
      "source": [
        "model_flux = cmdstanpy.CmdStanModel(\n",
        "    stan_file=os.path.join(\"src\", \"stan\", \"test_flux_pratt.stan\")\n",
        ")\n",
        "print(model_flux.code())"
      ],
      "id": "a17efd85",
      "execution_count": null,
      "outputs": []
    },
    {
      "cell_type": "markdown",
      "metadata": {},
      "source": [
        "Note that there is no `parameters` or `model` block - it is better to avoid\n",
        "these where possible as code written in these blocks tends to be more\n",
        "computationally costly.\n",
        "\n",
        "Since the new program's data variables all have the same names as in our main\n",
        "model, we can just reuse the existing dictionary `data_gen` when running the\n",
        "test program.\n"
      ],
      "id": "06aa06bf"
    },
    {
      "cell_type": "code",
      "metadata": {},
      "source": [
        "data_flux = {\n",
        "    \"N_species\": len(species),\n",
        "    \"N_reaction\": S.shape[1],\n",
        "    \"N_parameter\": len(parameters),\n",
        "    \"x\": species[\"initial_concentration\"].values,\n",
        "    \"p\": parameters[\"value_pratt\"].values\n",
        "}\n",
        "\n",
        "mcmc_flux = model_flux.sample(data=data_flux, fixed_param=True, iter_sampling=1, seed=SEED)\n",
        "idata_flux = az.from_cmdstanpy(\n",
        "    mcmc_flux, \n",
        "    coords={\"reaction\": S.columns, \"parameter\": parameters[\"name\"], \"species\": species[\"name\"]},\n",
        "    dims={\"x\": [\"species\"], \"p\": [\"parameter\"], \"flux\": [\"reaction\"]}\n",
        ")\n",
        "idata_flux.posterior[\"flux\"].sel(chain=0, draw=0).to_series()"
      ],
      "id": "87a0a86a",
      "execution_count": null,
      "outputs": []
    },
    {
      "cell_type": "markdown",
      "metadata": {},
      "source": [
        "Some of the fluxes are very high compared to the others - interesting!\n",
        "\n",
        "Next we can do the same process for the ODE. Here is the test model:\n"
      ],
      "id": "e70ed943"
    },
    {
      "cell_type": "code",
      "metadata": {},
      "source": [
        "model_ode = cmdstanpy.CmdStanModel(\n",
        "    stan_file=os.path.join(\"src\", \"stan\", \"test_ode_pratt.stan\")\n",
        ")\n",
        "print(model_ode.code())"
      ],
      "id": "f9ca0fe6",
      "execution_count": null,
      "outputs": []
    },
    {
      "cell_type": "markdown",
      "metadata": {},
      "source": [
        "Here is the output:\n"
      ],
      "id": "942a82c6"
    },
    {
      "cell_type": "code",
      "metadata": {},
      "source": [
        "data_ode = {**data_shared, **{\"p\": parameters[\"value_pratt\"].values}}\n",
        "\n",
        "mcmc_ode = model_ode.sample(\n",
        "    data=data_ode, fixed_param=True, iter_sampling=1, seed=SEED\n",
        ")\n",
        "idata_ode = az.from_cmdstanpy(\n",
        "    mcmc_ode, \n",
        "    coords=coords,\n",
        "    dims=dims\n",
        ")\n",
        "idata_ode.posterior[\"conc\"].sel(chain=0, draw=0).to_series().unstack(\"timepoint\")"
      ],
      "id": "9efa2dd9",
      "execution_count": null,
      "outputs": []
    },
    {
      "cell_type": "markdown",
      "metadata": {},
      "source": [
        "Two species---`L_TG_secr` and `L_pyruvate`---are negative, which shouldn't ever\n",
        "happen. Moreover, they are not close to zero, indicating that the problem is\n",
        "probably a coding error (we specified the equations incorrectly) rather than an\n",
        "ODE solver failure.\n",
        "\n",
        "The species `A_glucose`, `M_glucose` and `P_glucose` get a very high\n",
        "concentrations, which might be unrealistic. \n"
      ],
      "id": "f70475d7"
    }
  ],
  "metadata": {
    "kernelspec": {
      "name": "python3",
      "language": "python",
      "display_name": "Python 3 (ipykernel)"
    }
  },
  "nbformat": 4,
  "nbformat_minor": 5
}